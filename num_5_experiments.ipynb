{
 "cells": [
  {
   "cell_type": "code",
   "execution_count": 26,
   "metadata": {},
   "outputs": [],
   "source": [
    "import torch\n",
    "from torch import nn\n",
    "\n",
    "import torchvision\n",
    "from torchvision import datasets, transforms\n",
    "from torchvision.transforms import ToTensor\n",
    "from torch.utils.data import Dataset, Sampler, DataLoader, Subset, SubsetRandomSampler, BatchSampler\n",
    "from sklearn.model_selection import train_test_split\n",
    "import numpy as np\n",
    "import torch.nn.functional as F\n",
    "\n",
    "import matplotlib.pyplot as plt \n",
    "from helper_functions_2 import softmax_kl_loss, sigmoid_rampup, get_current_consistency_weight, linear_rampup, grouper, relabel_dataset\n",
    "import time\n"
   ]
  },
  {
   "attachments": {},
   "cell_type": "markdown",
   "metadata": {},
   "source": [
    "### Load MNSIT"
   ]
  },
  {
   "cell_type": "code",
   "execution_count": 27,
   "metadata": {},
   "outputs": [
    {
     "data": {
      "text/plain": [
       "['T-shirt/top',\n",
       " 'Trouser',\n",
       " 'Pullover',\n",
       " 'Dress',\n",
       " 'Coat',\n",
       " 'Sandal',\n",
       " 'Shirt',\n",
       " 'Sneaker',\n",
       " 'Bag',\n",
       " 'Ankle boot']"
      ]
     },
     "execution_count": 27,
     "metadata": {},
     "output_type": "execute_result"
    }
   ],
   "source": [
    "train_data = datasets.FashionMNIST(\n",
    "    root=\"data\",\n",
    "    train=True,\n",
    "    download=True,\n",
    "    transform=ToTensor(),\n",
    "    target_transform=None\n",
    ")\n",
    "\n",
    "test_data = datasets.FashionMNIST(\n",
    "    root=\"data\",\n",
    "    train=False,\n",
    "    download=True,\n",
    "    transform=ToTensor(),\n",
    "    target_transform=None\n",
    ")\n",
    "\n",
    "class_names = train_data.classes\n",
    "class_names"
   ]
  },
  {
   "cell_type": "code",
   "execution_count": 28,
   "metadata": {},
   "outputs": [
    {
     "data": {
      "text/plain": [
       "Text(0.5, 1.0, '8')"
      ]
     },
     "execution_count": 28,
     "metadata": {},
     "output_type": "execute_result"
    },
    {
     "data": {
      "image/png": "[encoded data removed]",
      "text/plain": [
       "<Figure size 432x288 with 1 Axes>"
      ]
     },
     "metadata": {
      "needs_background": "light"
     },
     "output_type": "display_data"
    }
   ],
   "source": [
    "img, label = train_data[99]\n",
    "plt.imshow(img.squeeze(), cmap='gray')\n",
    "plt.title(str(label))"
   ]
  },
  {
   "attachments": {},
   "cell_type": "markdown",
   "metadata": {},
   "source": [
    "### Create custom labelled and unlabelled dataset from MNIST"
   ]
  },
  {
   "cell_type": "code",
   "execution_count": 29,
   "metadata": {},
   "outputs": [],
   "source": [
    "class Arguments():\n",
    "    def __init__(self, momentum, weight_decay, nesterov, epochs:int, consistency, exclude_unlabeled:bool, batch_size=64, labeled_batch_size=32, consistency_type='kl', lr=0.01, initial_lr=0.001, lr_rampup = 10, ema_decay=0.999, consistency_rampup=4):\n",
    "        super().__init__()\n",
    "\n",
    "        self.lr = lr\n",
    "        self.momentum = momentum\n",
    "        self.weight_decay = weight_decay\n",
    "        self.nesterov = nesterov\n",
    "        self.epochs = epochs\n",
    "        self.consistency_type = consistency_type\n",
    "        self.initial_lr = initial_lr\n",
    "        self.lr_rampup = lr_rampup\n",
    "        self.consistency = consistency\n",
    "        self.ema_decay = ema_decay\n",
    "        self.labeled_batch_size = labeled_batch_size\n",
    "        self.exclude_unlabeled = exclude_unlabeled\n",
    "        self.batch_size = batch_size\n",
    "        self.consistency_rampup = consistency_rampup\n",
    "\n",
    "args = Arguments(lr=0.001, momentum=0, weight_decay=0, nesterov=False, epochs=4, exclude_unlabeled=True, consistency=0, batch_size=64, labeled_batch_size=64)"
   ]
  },
  {
   "cell_type": "code",
   "execution_count": 30,
   "metadata": {},
   "outputs": [],
   "source": [
    "split = 1-args.labeled_batch_size/args.batch_size\n",
    "NO_LABEL = -1\n",
    "BATCH_SIZE = args.batch_size\n",
    "if(args.exclude_unlabeled == False):\n",
    "    labelled_train_dataset, unlabelled_train_dataset, labels_train, unlabels_train = train_test_split(train_data.data, train_data.targets, stratify=train_data.targets, test_size=split)\n",
    "else:\n",
    "    labelled_train_dataset = train_data.data\n",
    "    labels_train = train_data.targets\n",
    "\n",
    "class CustomTrainDataset(Dataset):\n",
    "    def __init__(self, train_data, labels=None):\n",
    "        # self.base_data = train_data/255\n",
    "        self.base_data = train_data\n",
    "        self.labels = labels\n",
    "        super().__init__()\n",
    "\n",
    "    def __len__(self):\n",
    "        return len(self.base_data)\n",
    "\n",
    "    def __getitem__(self, idx):\n",
    "        img = self.base_data[idx]\n",
    "        if(self.labels is None):\n",
    "            label = NO_LABEL\n",
    "            # label = ToTensor(label)\n",
    "        else:\n",
    "            label = self.labels[idx]\n",
    "            label = label.item()\n",
    "        return img, label\n",
    "    "
   ]
  },
  {
   "cell_type": "code",
   "execution_count": 31,
   "metadata": {},
   "outputs": [
    {
     "data": {
      "image/png": "[encoded data removed]",
      "text/plain": [
       "<Figure size 432x288 with 1 Axes>"
      ]
     },
     "metadata": {
      "needs_background": "light"
     },
     "output_type": "display_data"
    },
    {
     "name": "stdout",
     "output_type": "stream",
     "text": [
      "Label: 0\n"
     ]
    }
   ],
   "source": [
    "labelled_dataset = CustomTrainDataset(train_data=labelled_train_dataset, labels=labels_train)\n",
    "if(args.exclude_unlabeled == False):\n",
    "    unlabelled_dataset = CustomTrainDataset(train_data=unlabelled_train_dataset)\n",
    "    train_dataset = torch.utils.data.ConcatDataset([labelled_dataset, unlabelled_dataset])\n",
    "else:\n",
    "    train_dataset = labelled_dataset\n",
    "\n",
    "# Temporary dataloader serves as checkpoint\n",
    "train_dataloader = DataLoader(train_dataset, batch_size=BATCH_SIZE, shuffle=True)\n",
    "train_features, train_labels = next(iter(train_dataloader))\n",
    "img = train_features[0].squeeze()\n",
    "img = img.cpu().detach().numpy()\n",
    "img = img/255\n",
    "img +=  0.05*np.random.randn(img.shape[0], img.shape[0])\n",
    "label = train_labels[0]\n",
    "plt.imshow(img, cmap=\"gray\")\n",
    "plt.show()\n",
    "print(f\"Label: {label}\")"
   ]
  },
  {
   "cell_type": "code",
   "execution_count": 34,
   "metadata": {},
   "outputs": [],
   "source": [
    "class TwoStreamBatchSampler(Sampler):\n",
    "     \n",
    "    def __init__(self, primary_indices, secondary_indices, batch_size, secondary_batch_size):\n",
    "        self.primary_indices = primary_indices\n",
    "        self.secondary_indices = secondary_indices\n",
    "        self.secondary_batch_size = secondary_batch_size\n",
    "        self.primary_batch_size = batch_size - secondary_batch_size\n",
    "\n",
    "        assert len(self.primary_indices) >= self.primary_batch_size > 0\n",
    "        assert len(self.secondary_indices) >= self.secondary_batch_size > 0\n",
    "        \n",
    "    def __iter__(self):\n",
    "            primary_iter = np.random.permutation(self.primary_indices)\n",
    "            secondary_iter = np.random.permutation(self.secondary_indices)\n",
    "            return (\n",
    "                primary_batch + secondary_batch\n",
    "                for (primary_batch, secondary_batch)\n",
    "                in  zip(grouper(primary_iter, self.primary_batch_size),\n",
    "                        grouper(secondary_iter, self.secondary_batch_size)))\n",
    "\n",
    "    def __len__(self):\n",
    "        return len(self.primary_indices) // self.primary_batch_size\n",
    "\n",
    "\n",
    "def create_data_loaders(train_dataset, test_dataset, args):\n",
    "    \n",
    "    labeled_idxs, unlabeled_idxs = relabel_dataset(dataset=train_dataset)\n",
    "\n",
    "    if args.exclude_unlabeled:\n",
    "        sampler = SubsetRandomSampler(labeled_idxs)\n",
    "        batch_sampler = BatchSampler(sampler, args.batch_size, drop_last=True)\n",
    "    else: \n",
    "        batch_sampler = TwoStreamBatchSampler(unlabeled_idxs, labeled_idxs, args.batch_size, args.labeled_batch_size)\n",
    "\n",
    "    train_loader = torch.utils.data.DataLoader(train_dataset,\n",
    "                                                batch_sampler=batch_sampler,\n",
    "                                                pin_memory=True)\n",
    "    \n",
    "    train_loader = torch.utils.data.DataLoader(\n",
    "        dataset= train_dataset,\n",
    "        batch_size=args.batch_size,\n",
    "        shuffle=False,\n",
    "        pin_memory=True,\n",
    "        drop_last=False)\n",
    "\n",
    "    eval_loader = torch.utils.data.DataLoader(\n",
    "        dataset=test_dataset,\n",
    "        batch_size=args.batch_size,\n",
    "        shuffle=False,\n",
    "        pin_memory=True,\n",
    "        drop_last=False)\n",
    "    \n",
    "    return train_loader, eval_loader\n",
    "\n",
    "train_loader, eval_loader = create_data_loaders(train_data, test_data, args)\n"
   ]
  },
  {
   "attachments": {},
   "cell_type": "markdown",
   "metadata": {},
   "source": [
    "### Create Model"
   ]
  },
  {
   "cell_type": "code",
   "execution_count": 35,
   "metadata": {},
   "outputs": [],
   "source": [
    "class FashionMNSITModel_V2(nn.Module):\n",
    "    def __init__(self, input_shape: int, hidden_units: int, output_shape: int):\n",
    "        super().__init__()\n",
    "\n",
    "        self.conv_block_1 = nn.Sequential(\n",
    "            nn.Conv2d(in_channels=input_shape,\n",
    "                      out_channels=hidden_units,\n",
    "                      kernel_size=(3,3),\n",
    "                      padding=1,\n",
    "                      stride=1),\n",
    "            nn.ReLU(),\n",
    "            nn.Conv2d(in_channels=hidden_units,\n",
    "                      out_channels=hidden_units,\n",
    "                      kernel_size=(3,3),\n",
    "                      stride=1,\n",
    "                      padding=1),\n",
    "            nn.ReLU(),\n",
    "            nn.MaxPool2d(kernel_size=(2,2))\n",
    "        )\n",
    "\n",
    "        self.conv_block_2 = nn.Sequential(\n",
    "            nn.Conv2d(in_channels=hidden_units,\n",
    "                      out_channels=hidden_units,\n",
    "                      kernel_size=(3,3),\n",
    "                      padding=1,\n",
    "                      stride=1),\n",
    "            nn.ReLU(),\n",
    "            nn.Conv2d(in_channels=hidden_units,\n",
    "                      out_channels=hidden_units,\n",
    "                      kernel_size=(3,3),\n",
    "                      stride=1,\n",
    "                      padding=1),\n",
    "            nn.ReLU(),\n",
    "            nn.MaxPool2d(kernel_size=(2,2))\n",
    "        )\n",
    "\n",
    "\n",
    "        self.classifier= nn.Sequential(\n",
    "            nn.Flatten(),\n",
    "            nn.Linear(in_features=hidden_units*7*7,\n",
    "                      out_features=output_shape)\n",
    "        )\n",
    "\n",
    "    def forward(self, x):\n",
    "        x = self.conv_block_1(x)\n",
    "        x = self.conv_block_2(x)\n",
    "        return self.classifier(x)\n",
    "    \n",
    "def create_models(input_shape: int, hidden_units: int, output_shape:int, ema=False):\n",
    "\n",
    "    model = FashionMNSITModel_V2(\n",
    "    input_shape=input_shape,\n",
    "    hidden_units=hidden_units,\n",
    "    output_shape=output_shape)\n",
    "\n",
    "    if ema:\n",
    "        for param in model.parameters():\n",
    "            param.detach_()\n",
    "\n",
    "    return model"
   ]
  },
  {
   "cell_type": "code",
   "execution_count": 36,
   "metadata": {},
   "outputs": [],
   "source": [
    "model_student = create_models(input_shape=1, hidden_units=10, output_shape=len(class_names))\n",
    "model_teacher = create_models(input_shape=1, hidden_units=10, output_shape=len(class_names), ema=True)\n",
    "\n",
    "\"\"\"\n",
    "optimizer = torch.optim.SGD(model_student.parameters(), args.lr,\n",
    "                                momentum=args.momentum,\n",
    "                                weight_decay=args.weight_decay,\n",
    "                                nesterov=args.nesterov)\n",
    "\"\"\"\n",
    "\n",
    "optimizer = torch.optim.SGD(model_student.parameters(), args.lr)\n",
    "\n"
   ]
  },
  {
   "cell_type": "code",
   "execution_count": 37,
   "metadata": {},
   "outputs": [],
   "source": [
    "def adjust_learning_rate(optimizer, epoch, batch_num, batches_in_epoch, args):\n",
    "    lr = args.lr\n",
    "    epoch = epoch + batch_num / batches_in_epoch\n",
    "\n",
    "    lr = linear_rampup(epoch, args.lr_rampup) * (args.lr - args.initial_lr) + args.initial_lr\n",
    "\n",
    "    for param_group in optimizer.param_groups:\n",
    "        param_group['lr'] = lr\n",
    "\n",
    "\n",
    "def update_ema_variables(model, ema_model, alpha, global_step):\n",
    "    # Use the true average until the exponential average is more correct\n",
    "    alpha = min(1 - 1 / (global_step + 1), alpha)\n",
    "    for ema_param, param in zip(ema_model.parameters(), model.parameters()):\n",
    "        ema_param.data.mul_(alpha).add_(1 - alpha, param.data)\n",
    "\n",
    "def accuracy_fn(output, target, args, train=False):\n",
    "\n",
    "    y_preds = torch.argmax(output, dim=1)\n",
    "\n",
    "    if(train):\n",
    "        y_preds = y_preds[:args.labeled_batch_size]\n",
    "        target = target[:args.labeled_batch_size]\n",
    "\n",
    "    res = sum(torch.eq(y_preds,target)).item() / len(output)\n",
    "    \n",
    "    return res\n",
    "\n"
   ]
  },
  {
   "cell_type": "code",
   "execution_count": 38,
   "metadata": {},
   "outputs": [
    {
     "data": {
      "text/plain": [
       "1.0"
      ]
     },
     "execution_count": 38,
     "metadata": {},
     "output_type": "execute_result"
    }
   ],
   "source": [
    "y = torch.tensor([1,0])\n",
    "y_hat = torch.tensor([[0,1,0],[11,0,2]])\n",
    "\n",
    "accuracy_fn(y_hat,y, args)\n"
   ]
  },
  {
   "cell_type": "code",
   "execution_count": 48,
   "metadata": {},
   "outputs": [],
   "source": [
    "\n",
    "def train(train_loader, model_student, model_teacher, optimizer, epoch, args):\n",
    "    global global_step\n",
    "\n",
    "    # class_criterion = nn.CrossEntropyLoss(reduction=\"sum\",ignore_index=NO_LABEL)\n",
    "    class_criterion = nn.CrossEntropyLoss()\n",
    "    if args.consistency_type == 'kl':\n",
    "        consistency_criterion = softmax_kl_loss\n",
    "\n",
    "        model_student.train()\n",
    "        model_teacher.train()\n",
    "\n",
    "        start = time.time()\n",
    "\n",
    "        for batch, (X, y) in enumerate(train_loader):\n",
    "\n",
    "            # Adjust learning rate for minibatach - read more on this and minibatch/batch training\n",
    "            if(args.exclude_unlabeled == False):\n",
    "                adjust_learning_rate(optimizer, epoch, batch, len(train_loader), args)\n",
    "\n",
    "            # Add noise to student and teacher inputs: ideally data should be augmented in the data loader. look more into it\n",
    "            #student_input_var = X + 0.01*torch.randn(size=X.shape)\n",
    "            #student_input_var = student_input_var.unsqueeze(dim=1)\n",
    "            #teacher_input_var = X + 0.01*torch.randn(size=X.shape)\n",
    "            #teacher_input_var = teacher_input_var.unsqueeze(dim=1)\n",
    "\n",
    "            student_input_var = X\n",
    "            teacher_input_var = X\n",
    "\n",
    "            minibatch_size = len(y)\n",
    "\n",
    "            # Forward Pass\n",
    "            student_out = model_student(student_input_var)\n",
    "            teacher_out = model_teacher(teacher_input_var)\n",
    "            \n",
    "            teacher_logit = teacher_out.detach().data\n",
    "\n",
    "            ## Evaluate the Loss\n",
    "            classification_loss = class_criterion(student_out, y) / minibatch_size\n",
    "            teacher_classification_loss = class_criterion(teacher_logit, y) / minibatch_size\n",
    "            \n",
    "\n",
    "            if args.consistency:\n",
    "                consistency_weight = get_current_consistency_weight(epoch, args)\n",
    "                consistency_loss = consistency_weight * consistency_criterion(student_out, teacher_logit) / minibatch_size\n",
    "            else:\n",
    "                consistency_loss = 0\n",
    "\n",
    "            loss = classification_loss + consistency_loss\n",
    "\n",
    "            #print(\"+++++++++++++++++++++++++\")\n",
    "            #print(\"Loss\")\n",
    "            #print(loss)\n",
    "            #print(\"consistency Loss\")\n",
    "            #print(consistency_loss)\n",
    "            #print(\"+++++++++++++++++++++++++\")\n",
    "            #print(xxx)\n",
    "            ## The usual\n",
    "            optimizer.zero_grad()\n",
    "            loss.backward()\n",
    "            optimizer.step()\n",
    "            global_step += 1\n",
    "            \n",
    "            update_ema_variables(model_student, model_teacher, args.ema_decay, global_step)\n",
    "\n",
    "            end = time.time()\n",
    "\n",
    "            num = int(len(train_loader)/2)\n",
    "            if batch % num == 0:\n",
    "                print(f\"Looked at {batch * len(X)}/{len(train_dataloader.dataset)} samples\")\n",
    "\n",
    "        print(f\"Training Loss = {loss}, learning rate = {optimizer.state_dict}\")\n",
    "\n"
   ]
  },
  {
   "cell_type": "code",
   "execution_count": 49,
   "metadata": {},
   "outputs": [],
   "source": [
    "def validate(eval_loader, model, args):\n",
    "\n",
    "    test_acc = 0\n",
    "    class_loss = 0\n",
    "    class_criterion = nn.CrossEntropyLoss(size_average=False, ignore_index=NO_LABEL)\n",
    "    model.eval()\n",
    "\n",
    "    with torch.inference_mode():\n",
    "        for i, (input, target) in enumerate(eval_loader):\n",
    "\n",
    "            minibatch_size = len(target)\n",
    "            output = model(input)\n",
    "            softmax1 = F.softmax(output, dim=1)\n",
    "            class_loss += class_criterion(output, target) / minibatch_size\n",
    "\n",
    "            test_acc += accuracy_fn(output, target, args)\n",
    "        \n",
    "        test_acc /= len(eval_loader)\n",
    "        class_loss /= len(eval_loader)\n",
    "        \n",
    "    return test_acc, class_loss\n",
    "        "
   ]
  },
  {
   "cell_type": "code",
   "execution_count": 50,
   "metadata": {},
   "outputs": [
    {
     "name": "stderr",
     "output_type": "stream",
     "text": [
      "  0%|          | 0/4 [00:00<?, ?it/s]"
     ]
    },
    {
     "name": "stdout",
     "output_type": "stream",
     "text": [
      "Looked at 0/60000 samples\n",
      "Looked at 30016/60000 samples\n",
      "Training Loss = 0.07203298807144165, learning rate = <bound method Optimizer.state_dict of SGD (\n",
      "Parameter Group 0\n",
      "    dampening: 0\n",
      "    lr: 0.001\n",
      "    momentum: 0\n",
      "    nesterov: False\n",
      "    weight_decay: 0\n",
      ")>\n"
     ]
    },
    {
     "name": "stderr",
     "output_type": "stream",
     "text": [
      "c:\\Users\\Parth\\miniconda3\\envs\\tftorch\\lib\\site-packages\\torch\\nn\\_reduction.py:42: UserWarning: size_average and reduce args will be deprecated, please use reduction='sum' instead.\n",
      "  warnings.warn(warning.format(ret))\n",
      " 25%|██▌       | 1/4 [00:40<02:02, 40.70s/it]"
     ]
    },
    {
     "name": "stdout",
     "output_type": "stream",
     "text": [
      "Student Accuracy = 4.856687898089172, Teacher accuracy = 4.806926751592357\n",
      "Looked at 0/60000 samples\n",
      "Looked at 30016/60000 samples\n",
      "Training Loss = 0.07203090935945511, learning rate = <bound method Optimizer.state_dict of SGD (\n",
      "Parameter Group 0\n",
      "    dampening: 0\n",
      "    lr: 0.001\n",
      "    momentum: 0\n",
      "    nesterov: False\n",
      "    weight_decay: 0\n",
      ")>\n"
     ]
    },
    {
     "name": "stderr",
     "output_type": "stream",
     "text": [
      " 50%|█████     | 2/4 [01:21<01:21, 40.60s/it]"
     ]
    },
    {
     "name": "stdout",
     "output_type": "stream",
     "text": [
      "Student Accuracy = 5.0358280254777075, Teacher accuracy = 4.886544585987261\n",
      "Looked at 0/60000 samples\n",
      "Looked at 30016/60000 samples\n",
      "Training Loss = 0.07202887535095215, learning rate = <bound method Optimizer.state_dict of SGD (\n",
      "Parameter Group 0\n",
      "    dampening: 0\n",
      "    lr: 0.001\n",
      "    momentum: 0\n",
      "    nesterov: False\n",
      "    weight_decay: 0\n",
      ")>\n"
     ]
    },
    {
     "name": "stderr",
     "output_type": "stream",
     "text": [
      " 75%|███████▌  | 3/4 [02:01<00:40, 40.66s/it]"
     ]
    },
    {
     "name": "stdout",
     "output_type": "stream",
     "text": [
      "Student Accuracy = 5.224920382165605, Teacher accuracy = 5.0358280254777075\n",
      "Looked at 0/60000 samples\n",
      "Looked at 30016/60000 samples\n",
      "Training Loss = 0.07202684879302979, learning rate = <bound method Optimizer.state_dict of SGD (\n",
      "Parameter Group 0\n",
      "    dampening: 0\n",
      "    lr: 0.001\n",
      "    momentum: 0\n",
      "    nesterov: False\n",
      "    weight_decay: 0\n",
      ")>\n"
     ]
    },
    {
     "name": "stderr",
     "output_type": "stream",
     "text": [
      "100%|██████████| 4/4 [02:42<00:00, 40.73s/it]"
     ]
    },
    {
     "name": "stdout",
     "output_type": "stream",
     "text": [
      "Student Accuracy = 5.334394904458599, Teacher accuracy = 5.214968152866242\n"
     ]
    },
    {
     "name": "stderr",
     "output_type": "stream",
     "text": [
      "\n"
     ]
    }
   ],
   "source": [
    "from tqdm.auto import tqdm\n",
    "\n",
    "student_accuracy = []\n",
    "teacher_accuracy = []\n",
    "\n",
    "global_step = 0\n",
    "for epoch in tqdm(range(args.epochs)):\n",
    "    train(train_loader, model_student, model_teacher, optimizer, epoch, args)\n",
    "    s_acc, s_loss = validate(eval_loader, model_student, args)\n",
    "    student_accuracy.append(s_acc)\n",
    "    t_acc, t_loss = validate(eval_loader, model_teacher, args)\n",
    "    teacher_accuracy.append(t_acc)\n",
    "    \n",
    "    print(f\"Student Accuracy = {s_acc*100}, Teacher accuracy = {t_acc*100}\")"
   ]
  },
  {
   "cell_type": "code",
   "execution_count": 51,
   "metadata": {},
   "outputs": [
    {
     "name": "stdout",
     "output_type": "stream",
     "text": [
      "[0.04856687898089172, 0.05035828025477707, 0.05224920382165605, 0.05334394904458599]\n",
      "[0.04806926751592357, 0.04886544585987261, 0.05035828025477707, 0.05214968152866242]\n"
     ]
    }
   ],
   "source": [
    "print(student_accuracy)\n",
    "print(teacher_accuracy)"
   ]
  },
  {
   "cell_type": "code",
   "execution_count": 52,
   "metadata": {},
   "outputs": [
    {
     "data": {
      "text/plain": [
       "(torch.Size([64, 1, 28, 28]), torch.Size([64]))"
      ]
     },
     "execution_count": 52,
     "metadata": {},
     "output_type": "execute_result"
    }
   ],
   "source": [
    "X, y = next(iter(eval_loader))\n",
    "X.shape, y.shape"
   ]
  },
  {
   "cell_type": "code",
   "execution_count": 53,
   "metadata": {},
   "outputs": [
    {
     "data": {
      "text/plain": [
       "(torch.Size([64, 1, 28, 28]), torch.Size([64]))"
      ]
     },
     "execution_count": 53,
     "metadata": {},
     "output_type": "execute_result"
    }
   ],
   "source": [
    "X, y = next(iter(train_loader))\n",
    "X.shape, y.shape"
   ]
  },
  {
   "cell_type": "code",
   "execution_count": 55,
   "metadata": {},
   "outputs": [
    {
     "data": {
      "text/plain": [
       "(tensor([3, 5, 3, 3, 5, 3, 3, 3, 3, 3]),\n",
       " tensor([9, 0, 0, 3, 0, 2, 7, 2, 5, 5]))"
      ]
     },
     "execution_count": 55,
     "metadata": {},
     "output_type": "execute_result"
    }
   ],
   "source": [
    "output = model_student(X)\n",
    "y_preds = torch.argmax(output, dim=1)\n",
    "y_preds[:10], y[:10]"
   ]
  },
  {
   "cell_type": "code",
   "execution_count": 56,
   "metadata": {},
   "outputs": [
    {
     "data": {
      "text/plain": [
       "(tensor([3, 5, 3, 3, 5, 3, 3, 3, 3, 3]),\n",
       " tensor([9, 0, 0, 3, 0, 2, 7, 2, 5, 5]))"
      ]
     },
     "execution_count": 56,
     "metadata": {},
     "output_type": "execute_result"
    }
   ],
   "source": [
    "output = model_student(X)\n",
    "output = F.softmax(output, dim=1)\n",
    "y_preds = torch.argmax(output, dim=1)\n",
    "y_preds[:10], y[:10]"
   ]
  },
  {
   "cell_type": "code",
   "execution_count": null,
   "metadata": {},
   "outputs": [],
   "source": []
  }
 ],
 "metadata": {
  "kernelspec": {
   "display_name": "tftorch",
   "language": "python",
   "name": "python3"
  },
  "language_info": {
   "codemirror_mode": {
    "name": "ipython",
    "version": 3
   },
   "file_extension": ".py",
   "mimetype": "text/x-python",
   "name": "python",
   "nbconvert_exporter": "python",
   "pygments_lexer": "ipython3",
   "version": "3.6.15"
  },
  "orig_nbformat": 4
 },
 "nbformat": 4,
 "nbformat_minor": 2
}
